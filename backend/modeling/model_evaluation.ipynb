{
 "cells": [
  {
   "cell_type": "code",
   "execution_count": 2,
   "metadata": {},
   "outputs": [
    {
     "name": "stdout",
     "output_type": "stream",
     "text": [
      "\n",
      "🔍 Logistic Regression Model Evaluation:\n",
      "Accuracy: 0.9750\n",
      "Precision: 0.0000\n",
      "Recall: 0.0000\n",
      "F1-Score: 0.0000\n",
      "\n",
      "Classification Report:\n",
      "              precision    recall  f1-score   support\n",
      "\n",
      "           0       0.99      0.99      0.99       276\n",
      "           1       0.00      0.00      0.00         4\n",
      "\n",
      "    accuracy                           0.97       280\n",
      "   macro avg       0.49      0.49      0.49       280\n",
      "weighted avg       0.97      0.97      0.97       280\n",
      "\n"
     ]
    }
   ],
   "source": [
    "import pandas as pd\n",
    "import numpy as np\n",
    "from sklearn.model_selection import train_test_split\n",
    "from sklearn.preprocessing import StandardScaler\n",
    "from sklearn.linear_model import LogisticRegression\n",
    "from sklearn.metrics import accuracy_score, precision_score, recall_score, f1_score, classification_report\n",
    "\n",
    "# Load the dataset\n",
    "df = pd.read_csv(r'/Users/manishkavuri/Downloads/nba_player_stats_with_scores.csv')\n",
    "\n",
    "# Exclude the 2022-23 season (since we don't have MVP labels for it)\n",
    "df = df[df[\"season\"] != \"2022-23\"]\n",
    "\n",
    "# Define the features for the model\n",
    "features = [\"PPG\", \"APG\", \"RPG\", \"SPG\", \"winShares\", \"per\", \"usagePercent\"]\n",
    "X = df[features]\n",
    "y = df[\"MVP\"]  # Target variable (0 = Non-MVP, 1 = MVP)\n",
    "\n",
    "# Split the data into training (80%) and testing (20%) sets\n",
    "X_train, X_test, y_train, y_test = train_test_split(X, y, test_size=0.2, random_state=42, stratify=y)\n",
    "\n",
    "# Standardize the features (important for logistic regression)\n",
    "scaler = StandardScaler()\n",
    "X_train_scaled = scaler.fit_transform(X_train)\n",
    "X_test_scaled = scaler.transform(X_test)\n",
    "\n",
    "# Train the logistic regression model\n",
    "log_reg = LogisticRegression()\n",
    "log_reg.fit(X_train_scaled, y_train)\n",
    "\n",
    "# Make predictions\n",
    "y_pred = log_reg.predict(X_test_scaled)\n",
    "\n",
    "# Evaluate the model\n",
    "accuracy = accuracy_score(y_test, y_pred)\n",
    "precision = precision_score(y_test, y_pred, zero_division=1)\n",
    "recall = recall_score(y_test, y_pred, zero_division=1)\n",
    "f1 = f1_score(y_test, y_pred, zero_division=1)\n",
    "\n",
    "# Display evaluation results\n",
    "print(\"\\n🔍 Logistic Regression Model Evaluation:\")\n",
    "print(f\"Accuracy: {accuracy:.4f}\")\n",
    "print(f\"Precision: {precision:.4f}\")\n",
    "print(f\"Recall: {recall:.4f}\")\n",
    "print(f\"F1-Score: {f1:.4f}\")\n",
    "print(\"\\nClassification Report:\")\n",
    "print(classification_report(y_test, y_pred, zero_division=1))\n"
   ]
  },
  {
   "cell_type": "code",
   "execution_count": 3,
   "metadata": {},
   "outputs": [
    {
     "name": "stdout",
     "output_type": "stream",
     "text": [
      "Total MVPs in the dataset: 19\n"
     ]
    }
   ],
   "source": [
    "# Count the number of MVPs in the dataset\n",
    "mvp_count = df[\"MVP\"].sum()\n",
    "print(f\"Total MVPs in the dataset: {mvp_count}\")\n"
   ]
  },
  {
   "cell_type": "code",
   "execution_count": 4,
   "metadata": {},
   "outputs": [
    {
     "name": "stdout",
     "output_type": "stream",
     "text": [
      "MVPs in Training Set: 15\n",
      "MVPs in Test Set: 4\n"
     ]
    }
   ],
   "source": [
    "# Count MVPs in training and test sets\n",
    "train_mvp_count = y_train.sum()\n",
    "test_mvp_count = y_test.sum()\n",
    "\n",
    "print(f\"MVPs in Training Set: {train_mvp_count}\")\n",
    "print(f\"MVPs in Test Set: {test_mvp_count}\")\n"
   ]
  },
  {
   "cell_type": "code",
   "execution_count": 5,
   "metadata": {},
   "outputs": [
    {
     "name": "stdout",
     "output_type": "stream",
     "text": [
      "MVPs in Training Set: 15\n",
      "MVPs in Test Set: 4\n"
     ]
    }
   ],
   "source": [
    "# Count MVPs in training and test sets again\n",
    "train_mvp_count = y_train.sum()\n",
    "test_mvp_count = y_test.sum()\n",
    "\n",
    "print(f\"MVPs in Training Set: {train_mvp_count}\")\n",
    "print(f\"MVPs in Test Set: {test_mvp_count}\")\n"
   ]
  },
  {
   "cell_type": "markdown",
   "metadata": {},
   "source": [
    "Based on the inital logistic model, it was evident that "
   ]
  },
  {
   "cell_type": "code",
   "execution_count": 6,
   "metadata": {},
   "outputs": [
    {
     "name": "stdout",
     "output_type": "stream",
     "text": [
      "\n",
      "🔍 Logistic Regression with Class Weighting Evaluation:\n",
      "Accuracy: 0.8607\n",
      "Precision: 0.0732\n",
      "Recall: 0.7500\n",
      "F1-Score: 0.1333\n",
      "\n",
      "Classification Report:\n",
      "              precision    recall  f1-score   support\n",
      "\n",
      "           0       1.00      0.86      0.92       276\n",
      "           1       0.07      0.75      0.13         4\n",
      "\n",
      "    accuracy                           0.86       280\n",
      "   macro avg       0.53      0.81      0.53       280\n",
      "weighted avg       0.98      0.86      0.91       280\n",
      "\n"
     ]
    }
   ],
   "source": [
    "\n",
    "\n",
    "# Define features and target variable\n",
    "features = [\"PPG\", \"APG\", \"RPG\", \"SPG\", \"winShares\", \"per\", \"usagePercent\"]\n",
    "X = df[features]\n",
    "y = df[\"MVP\"]  # Target variable (0 = Non-MVP, 1 = MVP)\n",
    "\n",
    "# Split data into training and testing sets (Stratified to balance MVPs)\n",
    "X_train, X_test, y_train, y_test = train_test_split(X, y, test_size=0.2, random_state=42, stratify=y)\n",
    "\n",
    "# Standardize the features\n",
    "scaler = StandardScaler()\n",
    "X_train_scaled = scaler.fit_transform(X_train)\n",
    "X_test_scaled = scaler.transform(X_test)\n",
    "\n",
    "# Train Logistic Regression with Class Weighting\n",
    "log_reg = LogisticRegression(class_weight=\"balanced\", random_state=42)  # Adjusts for class imbalance\n",
    "log_reg.fit(X_train_scaled, y_train)\n",
    "\n",
    "# Make predictions\n",
    "y_pred = log_reg.predict(X_test_scaled)\n",
    "\n",
    "# Evaluate the model\n",
    "accuracy = accuracy_score(y_test, y_pred)\n",
    "precision = precision_score(y_test, y_pred, zero_division=1)\n",
    "recall = recall_score(y_test, y_pred, zero_division=1)\n",
    "f1 = f1_score(y_test, y_pred, zero_division=1)\n",
    "\n",
    "# Display evaluation results\n",
    "print(\"\\n🔍 Logistic Regression with Class Weighting Evaluation:\")\n",
    "print(f\"Accuracy: {accuracy:.4f}\")\n",
    "print(f\"Precision: {precision:.4f}\")\n",
    "print(f\"Recall: {recall:.4f}\")\n",
    "print(f\"F1-Score: {f1:.4f}\")\n",
    "print(\"\\nClassification Report:\")\n",
    "print(classification_report(y_test, y_pred, zero_division=1))\n"
   ]
  }
 ],
 "metadata": {
  "kernelspec": {
   "display_name": ".venv",
   "language": "python",
   "name": "python3"
  },
  "language_info": {
   "codemirror_mode": {
    "name": "ipython",
    "version": 3
   },
   "file_extension": ".py",
   "mimetype": "text/x-python",
   "name": "python",
   "nbconvert_exporter": "python",
   "pygments_lexer": "ipython3",
   "version": "3.12.7"
  }
 },
 "nbformat": 4,
 "nbformat_minor": 2
}
